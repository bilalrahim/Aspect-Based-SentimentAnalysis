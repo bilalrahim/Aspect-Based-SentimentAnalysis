{
 "cells": [
  {
   "cell_type": "code",
   "execution_count": 1,
   "metadata": {},
   "outputs": [
    {
     "data": {
      "text/plain": [
       "'\\nNatural Language Processing Semester Project.\\nProduct Aspect Sentiment Analysis.\\nData from Kaggle\\n\\nSteps :\\n1- Data is cleaned first.\\n2- Contextually similar reviews are seperated into seperate lists main themes are : Price, Comfort, Location.\\n3- Sentiment Analysis techniques <using sentiwordnet> are used to extract sentiments from the seperated reviews.\\n4- The sentiments are analysed using pylog.\\n\\n\\nAuthor: Bilal Rahim\\nDate:20th May, 2020\\n\\n'"
      ]
     },
     "execution_count": 1,
     "metadata": {},
     "output_type": "execute_result"
    }
   ],
   "source": [
    "\"\"\"\n",
    "Natural Language Processing Semester Project.\n",
    "Product Aspect Sentiment Analysis.\n",
    "Data from Kaggle\n",
    "\n",
    "Steps :\n",
    "1- Data is cleaned first.\n",
    "2- Contextually similar reviews are seperated into seperate lists main themes are : Price, Comfort, Location.\n",
    "3- Sentiment Analysis techniques <using sentiwordnet> are used to extract sentiments from the seperated reviews.\n",
    "4- The sentiments are visualized using pylog.\n",
    "\n",
    "\n",
    "Author: Bilal Rahim\n",
    "Date:20th May, 2020\n",
    "\n",
    "\"\"\""
   ]
  },
  {
   "cell_type": "code",
   "execution_count": 2,
   "metadata": {},
   "outputs": [],
   "source": [
    "from sklearn.feature_extraction.text import CountVectorizer\n",
    "import pandas as pd\n",
    "from sklearn.feature_extraction import stop_words\n",
    "stopWordsList=list(stop_words.ENGLISH_STOP_WORDS)\n",
    "from string import punctuation as punc\n",
    "from nltk.stem import PorterStemmer\n",
    "ps = PorterStemmer()\n",
    "from nltk.stem import WordNetLemmatizer\n",
    "wl = WordNetLemmatizer()\n",
    "import nltk\n",
    "from nltk.corpus import wordnet\n",
    "from nltk.corpus import sentiwordnet as swnet\n",
    "import numpy as np\n",
    "from matplotlib import rc"
   ]
  },
  {
   "cell_type": "code",
   "execution_count": 3,
   "metadata": {},
   "outputs": [],
   "source": [
    "import sys\n",
    "import os"
   ]
  },
  {
   "cell_type": "code",
   "execution_count": 4,
   "metadata": {},
   "outputs": [],
   "source": [
    "path=os.path.join(sys.path[0],\"hotel_rev.csv\")"
   ]
  },
  {
   "cell_type": "code",
   "execution_count": 5,
   "metadata": {},
   "outputs": [],
   "source": [
    "corpus = pd.read_csv(path)"
   ]
  },
  {
   "cell_type": "code",
   "execution_count": 6,
   "metadata": {},
   "outputs": [],
   "source": [
    "reviews= corpus.iloc[:,[14]].values\n",
    "x = reviews.flatten()\n",
    "reviews = x.tolist()"
   ]
  },
  {
   "cell_type": "code",
   "execution_count": 7,
   "metadata": {},
   "outputs": [
    {
     "name": "stdout",
     "output_type": "stream",
     "text": [
      "rem\n",
      "rem\n",
      "rem\n",
      "rem\n",
      "rem\n",
      "rem\n",
      "rem\n",
      "rem\n",
      "rem\n",
      "rem\n",
      "rem\n",
      "rem\n",
      "rem\n",
      "rem\n",
      "rem\n",
      "rem\n",
      "rem\n",
      "rem\n"
     ]
    }
   ],
   "source": [
    "counter = 0 \n",
    "for rev in reviews:\n",
    "    if type(rev) != str:\n",
    "        reviews.remove(reviews[counter])\n",
    "    counter +=1"
   ]
  },
  {
   "cell_type": "code",
   "execution_count": 8,
   "metadata": {},
   "outputs": [],
   "source": [
    "tempList=[]\n",
    "stemmingList=[]\n",
    "finalList=[]\n",
    "joinOn=\" \"\n",
    "tempSplit=[]\n",
    "counter = 0\n",
    "for rev in reviews:\n",
    "    if(type(rev)==str):\n",
    "        tempList=rev.split(\" \")    \n",
    "        remStopWord=[word for word in tempList if word not in stopWordsList] #Removing stop words.\n",
    "        remPunctuation=[word for word in remStopWord if word not in punc]\n",
    "        for word in remPunctuation:\n",
    "        \n",
    "        \n",
    "            stemmingList.append(wl.lemmatize(ps.stem(word),'v')) #Stemming and lemmetizing words.\n",
    "    #Joining words back toghether of the review after preprocessing techniques to make it whole.\n",
    "        joinStr=joinOn.join(stemmingList)\n",
    "    #List that contains reviews after the preprocessing techniques as elements.\n",
    "        finalList.append(joinStr)\n",
    "        stemmingList=[]\n"
   ]
  },
  {
   "cell_type": "code",
   "execution_count": 9,
   "metadata": {},
   "outputs": [],
   "source": [
    "#To Remove Punctuation.\n",
    "fflist=[]\n",
    "for rev in finalList:\n",
    "    tempWord=\"\"\n",
    "    for char in rev:\n",
    "        if char not in punc:\n",
    "            tempWord=tempWord+char\n",
    "    fflist.append(tempWord)      "
   ]
  },
  {
   "cell_type": "code",
   "execution_count": 10,
   "metadata": {},
   "outputs": [],
   "source": [
    "#Main categories the reviews are divided into are:\n",
    "#Price, Comfort and location.\n",
    "#Seperating contextually similar reviews, using wordnet.\n",
    "\n",
    "\n",
    "price = wordnet.synsets('price')[0]\n",
    "comfort = wordnet.synsets('comfort')[0]\n",
    "location = wordnet.synsets('location')[0]\n",
    "temp_comf =0\n",
    "temp_price= 0\n",
    "temp_loc = 0\n",
    "\n",
    "comfort_rev = []\n",
    "price_rev=[]\n",
    "location_rev=[]\n",
    "\n",
    "for rev in fflist:\n",
    "    tempWord = rev.split(' ')\n",
    "    for word in tempWord:\n",
    "        wordX = wordnet.synsets(word)\n",
    "        if len(wordX) > 0 :\n",
    "            wordX = wordnet.synsets(word)[0]\n",
    "            \n",
    "            price_score = wordnet.wup_similarity(price,wordX)\n",
    "            if(price_score==None):\n",
    "                price_score=0 \n",
    "            \n",
    "            comfort_score = wordnet.wup_similarity(comfort,wordX)\n",
    "            if(comfort_score==None):\n",
    "                comfort_score=0\n",
    "            \n",
    "            location_score = wordnet.wup_similarity(location,wordX)\n",
    "            if(location_score==None):\n",
    "                location_score=0\n",
    "                \n",
    "            \n",
    "            max_score = max(price_score,comfort_score,location_score)\n",
    "            if(max_score == price_score):\n",
    "                temp_price += price_score\n",
    "            if(max_score ==comfort_score):\n",
    "                temp_comf+= comfort_score\n",
    "            if(max_score == location_score):\n",
    "                temp_loc +=location_score\n",
    "    \n",
    "\n",
    "    temp_max = max(temp_loc,temp_price,temp_comf)\n",
    "    if(temp_max == 0):\n",
    "        continue\n",
    "    if(temp_max == temp_price):\n",
    "       \n",
    "        price_rev.append(rev)\n",
    "    if(temp_max ==temp_comf):\n",
    "        \n",
    "        comfort_rev.append(rev)\n",
    "    if(temp_max == temp_loc):\n",
    "       \n",
    "        location_rev.append(rev)\n",
    "    temp_loc=0\n",
    "    temp_price=0\n",
    "    temp_comf=0"
   ]
  },
  {
   "cell_type": "code",
   "execution_count": 11,
   "metadata": {},
   "outputs": [],
   "source": [
    "price_pos_rev = 0\n",
    "price_neg_rev=0\n",
    "comf_pos_rev=0\n",
    "comf_neg_rev=0\n",
    "loc_pos_rev=0\n",
    "loc_neg_rev=0"
   ]
  },
  {
   "cell_type": "code",
   "execution_count": 12,
   "metadata": {},
   "outputs": [],
   "source": [
    "#Sentiment Analysis (category = price).\n",
    "\n",
    "good = wordnet.synsets('good')[0]\n",
    "bad = wordnet.synsets('bad')[0]\n",
    "tempneg = 0\n",
    "temppos = 0 \n",
    "for rev in price_rev:\n",
    "    tempWord = rev.split(' ')\n",
    "    for word in tempWord:\n",
    "        wordX = wordnet.synsets(word)\n",
    "        if len(wordX) > 0 :\n",
    "            wordX = wordnet.synsets(word)[0]\n",
    "            senti = swnet.senti_synset(wordX.name())\n",
    "            pos_score = senti.pos_score()\n",
    "            neg_score = senti.neg_score()\n",
    "            if(pos_score > neg_score):\n",
    "                temppos+=pos_score\n",
    "            else:\n",
    "                tempneg+=neg_score\n",
    "    if (temppos > tempneg):\n",
    "        price_pos_rev+=1\n",
    "    else:\n",
    "        price_neg_rev+=1\n",
    "    tempneg = 0\n",
    "    temppos = 0"
   ]
  },
  {
   "cell_type": "code",
   "execution_count": 13,
   "metadata": {},
   "outputs": [],
   "source": [
    "#Sentiment Analysis (category = comfort).\n",
    "\n",
    "good = wordnet.synsets('good')[0]\n",
    "bad = wordnet.synsets('bad')[0]\n",
    "tempneg = 0\n",
    "temppos = 0 \n",
    "for rev in comfort_rev:\n",
    "    tempWord = rev.split(' ')\n",
    "    for word in tempWord:\n",
    "        wordX = wordnet.synsets(word)\n",
    "        if len(wordX) > 0 :\n",
    "            wordX = wordnet.synsets(word)[0]\n",
    "            senti = swnet.senti_synset(wordX.name())\n",
    "            pos_score = senti.pos_score()\n",
    "            neg_score = senti.neg_score()\n",
    "            if(pos_score > neg_score):\n",
    "                temppos+=pos_score\n",
    "            else:\n",
    "                tempneg+=neg_score\n",
    "    if (temppos > tempneg):\n",
    "        comf_pos_rev+=1\n",
    "    else:\n",
    "        comf_neg_rev+=1\n",
    "    tempneg = 0\n",
    "    temppos = 0"
   ]
  },
  {
   "cell_type": "code",
   "execution_count": 14,
   "metadata": {},
   "outputs": [],
   "source": [
    "#Sentiment Analysis (category = location).\n",
    "\n",
    "good = wordnet.synsets('good')[0]\n",
    "bad = wordnet.synsets('bad')[0]\n",
    "tempneg = 0\n",
    "temppos = 0 \n",
    "\n",
    "for rev in location_rev:\n",
    "    tempWord = rev.split(' ')\n",
    "    for word in tempWord:\n",
    "        wordX = wordnet.synsets(word)\n",
    "        if len(wordX) > 0 :\n",
    "            wordX = wordnet.synsets(word)[0]\n",
    "            senti = swnet.senti_synset(wordX.name())\n",
    "            pos_score = senti.pos_score()\n",
    "            neg_score = senti.neg_score()\n",
    "            if(pos_score > neg_score):\n",
    "                temppos+=pos_score\n",
    "            else:\n",
    "                tempneg+=neg_score\n",
    "    if (temppos > tempneg):\n",
    "        loc_pos_rev+=1\n",
    "    else:\n",
    "        loc_neg_rev+=1\n",
    "    tempneg = 0\n",
    "    temppos = 0"
   ]
  },
  {
   "cell_type": "code",
   "execution_count": 15,
   "metadata": {},
   "outputs": [],
   "source": [
    "senti_dict = {\"Price\":[(price_pos_rev/len(price_rev))*100,(price_neg_rev/len(price_rev))*100],\"Comfort\":[(comf_pos_rev/len(comfort_rev))*100,(comf_neg_rev/len(comfort_rev))*100],\"Location\":[(loc_pos_rev/len(location_rev))*100,(loc_neg_rev/len(location_rev))*100]}"
   ]
  },
  {
   "cell_type": "code",
   "execution_count": 16,
   "metadata": {},
   "outputs": [
    {
     "name": "stdout",
     "output_type": "stream",
     "text": [
      "Requirement already satisfied: pygal in c:\\users\\bilal\\anaconda3\\lib\\site-packages (2.4.0)\n",
      "Note: you may need to restart the kernel to use updated packages.\n"
     ]
    }
   ],
   "source": [
    "pip install pygal"
   ]
  },
  {
   "cell_type": "code",
   "execution_count": 17,
   "metadata": {},
   "outputs": [],
   "source": [
    "#Graphing The Results.."
   ]
  },
  {
   "cell_type": "code",
   "execution_count": 18,
   "metadata": {},
   "outputs": [],
   "source": [
    "import pygal\n",
    "from IPython.display import SVG, display"
   ]
  },
  {
   "cell_type": "code",
   "execution_count": 19,
   "metadata": {},
   "outputs": [
    {
     "data": {
      "image/svg+xml": [
       "<svg class=\"pygal-chart\" id=\"chart-5a48555e-d81f-426c-a66d-52cab832df99\" viewBox=\"0 0 800 600\" xmlns=\"http://www.w3.org/2000/svg\" xmlns:xlink=\"http://www.w3.org/1999/xlink\"><!--Generated with pygal 2.4.0 (lxml) ©Kozea 2012-2016 on 2020-05-21--><!--http://pygal.org--><!--http://github.com/Kozea/pygal--><defs><style type=\"text/css\">#chart-5a48555e-d81f-426c-a66d-52cab832df99{-webkit-user-select:none;-webkit-font-smoothing:antialiased;font-family:Consolas,&quot;Liberation Mono&quot;,Menlo,Courier,monospace}#chart-5a48555e-d81f-426c-a66d-52cab832df99 .title{font-family:Consolas,&quot;Liberation Mono&quot;,Menlo,Courier,monospace;font-size:16px}#chart-5a48555e-d81f-426c-a66d-52cab832df99 .legends .legend text{font-family:Consolas,&quot;Liberation Mono&quot;,Menlo,Courier,monospace;font-size:14px}#chart-5a48555e-d81f-426c-a66d-52cab832df99 .axis text{font-family:Consolas,&quot;Liberation Mono&quot;,Menlo,Courier,monospace;font-size:10px}#chart-5a48555e-d81f-426c-a66d-52cab832df99 .axis text.major{font-family:Consolas,&quot;Liberation Mono&quot;,Menlo,Courier,monospace;font-size:10px}#chart-5a48555e-d81f-426c-a66d-52cab832df99 .text-overlay text.value{font-family:Consolas,&quot;Liberation Mono&quot;,Menlo,Courier,monospace;font-size:16px}#chart-5a48555e-d81f-426c-a66d-52cab832df99 .text-overlay text.label{font-family:Consolas,&quot;Liberation Mono&quot;,Menlo,Courier,monospace;font-size:10px}#chart-5a48555e-d81f-426c-a66d-52cab832df99 .tooltip{font-family:Consolas,&quot;Liberation Mono&quot;,Menlo,Courier,monospace;font-size:14px}#chart-5a48555e-d81f-426c-a66d-52cab832df99 text.no_data{font-family:Consolas,&quot;Liberation Mono&quot;,Menlo,Courier,monospace;font-size:64px}\n",
       "#chart-5a48555e-d81f-426c-a66d-52cab832df99{background-color:rgba(249,249,249,1)}#chart-5a48555e-d81f-426c-a66d-52cab832df99 path,#chart-5a48555e-d81f-426c-a66d-52cab832df99 line,#chart-5a48555e-d81f-426c-a66d-52cab832df99 rect,#chart-5a48555e-d81f-426c-a66d-52cab832df99 circle{-webkit-transition:150ms;-moz-transition:150ms;transition:150ms}#chart-5a48555e-d81f-426c-a66d-52cab832df99 .graph &gt; .background{fill:rgba(249,249,249,1)}#chart-5a48555e-d81f-426c-a66d-52cab832df99 .plot &gt; .background{fill:rgba(255,255,255,1)}#chart-5a48555e-d81f-426c-a66d-52cab832df99 .graph{fill:rgba(0,0,0,.87)}#chart-5a48555e-d81f-426c-a66d-52cab832df99 text.no_data{fill:rgba(0,0,0,1)}#chart-5a48555e-d81f-426c-a66d-52cab832df99 .title{fill:rgba(0,0,0,1)}#chart-5a48555e-d81f-426c-a66d-52cab832df99 .legends .legend text{fill:rgba(0,0,0,.87)}#chart-5a48555e-d81f-426c-a66d-52cab832df99 .legends .legend:hover text{fill:rgba(0,0,0,1)}#chart-5a48555e-d81f-426c-a66d-52cab832df99 .axis .line{stroke:rgba(0,0,0,1)}#chart-5a48555e-d81f-426c-a66d-52cab832df99 .axis .guide.line{stroke:rgba(0,0,0,.54)}#chart-5a48555e-d81f-426c-a66d-52cab832df99 .axis .major.line{stroke:rgba(0,0,0,.87)}#chart-5a48555e-d81f-426c-a66d-52cab832df99 .axis text.major{fill:rgba(0,0,0,1)}#chart-5a48555e-d81f-426c-a66d-52cab832df99 .axis.y .guides:hover .guide.line,#chart-5a48555e-d81f-426c-a66d-52cab832df99 .line-graph .axis.x .guides:hover .guide.line,#chart-5a48555e-d81f-426c-a66d-52cab832df99 .stackedline-graph .axis.x .guides:hover .guide.line,#chart-5a48555e-d81f-426c-a66d-52cab832df99 .xy-graph .axis.x .guides:hover .guide.line{stroke:rgba(0,0,0,1)}#chart-5a48555e-d81f-426c-a66d-52cab832df99 .axis .guides:hover text{fill:rgba(0,0,0,1)}#chart-5a48555e-d81f-426c-a66d-52cab832df99 .reactive{fill-opacity:.7;stroke-opacity:.8}#chart-5a48555e-d81f-426c-a66d-52cab832df99 .ci{stroke:rgba(0,0,0,.87)}#chart-5a48555e-d81f-426c-a66d-52cab832df99 .reactive.active,#chart-5a48555e-d81f-426c-a66d-52cab832df99 .active .reactive{fill-opacity:.8;stroke-opacity:.9;stroke-width:4}#chart-5a48555e-d81f-426c-a66d-52cab832df99 .ci .reactive.active{stroke-width:1.5}#chart-5a48555e-d81f-426c-a66d-52cab832df99 .series text{fill:rgba(0,0,0,1)}#chart-5a48555e-d81f-426c-a66d-52cab832df99 .tooltip rect{fill:rgba(255,255,255,1);stroke:rgba(0,0,0,1);-webkit-transition:opacity 150ms;-moz-transition:opacity 150ms;transition:opacity 150ms}#chart-5a48555e-d81f-426c-a66d-52cab832df99 .tooltip .label{fill:rgba(0,0,0,.87)}#chart-5a48555e-d81f-426c-a66d-52cab832df99 .tooltip .label{fill:rgba(0,0,0,.87)}#chart-5a48555e-d81f-426c-a66d-52cab832df99 .tooltip .legend{font-size:.8em;fill:rgba(0,0,0,.54)}#chart-5a48555e-d81f-426c-a66d-52cab832df99 .tooltip .x_label{font-size:.6em;fill:rgba(0,0,0,1)}#chart-5a48555e-d81f-426c-a66d-52cab832df99 .tooltip .xlink{font-size:.5em;text-decoration:underline}#chart-5a48555e-d81f-426c-a66d-52cab832df99 .tooltip .value{font-size:1.5em}#chart-5a48555e-d81f-426c-a66d-52cab832df99 .bound{font-size:.5em}#chart-5a48555e-d81f-426c-a66d-52cab832df99 .max-value{font-size:.75em;fill:rgba(0,0,0,.54)}#chart-5a48555e-d81f-426c-a66d-52cab832df99 .map-element{fill:rgba(255,255,255,1);stroke:rgba(0,0,0,.54) !important}#chart-5a48555e-d81f-426c-a66d-52cab832df99 .map-element .reactive{fill-opacity:inherit;stroke-opacity:inherit}#chart-5a48555e-d81f-426c-a66d-52cab832df99 .color-0,#chart-5a48555e-d81f-426c-a66d-52cab832df99 .color-0 a:visited{stroke:#F44336;fill:#F44336}#chart-5a48555e-d81f-426c-a66d-52cab832df99 .color-1,#chart-5a48555e-d81f-426c-a66d-52cab832df99 .color-1 a:visited{stroke:#3F51B5;fill:#3F51B5}#chart-5a48555e-d81f-426c-a66d-52cab832df99 .text-overlay .color-0 text{fill:black}#chart-5a48555e-d81f-426c-a66d-52cab832df99 .text-overlay .color-1 text{fill:black}\n",
       "#chart-5a48555e-d81f-426c-a66d-52cab832df99 text.no_data{text-anchor:middle}#chart-5a48555e-d81f-426c-a66d-52cab832df99 .guide.line{fill:none}#chart-5a48555e-d81f-426c-a66d-52cab832df99 .centered{text-anchor:middle}#chart-5a48555e-d81f-426c-a66d-52cab832df99 .title{text-anchor:middle}#chart-5a48555e-d81f-426c-a66d-52cab832df99 .legends .legend text{fill-opacity:1}#chart-5a48555e-d81f-426c-a66d-52cab832df99 .axis.x text{text-anchor:middle}#chart-5a48555e-d81f-426c-a66d-52cab832df99 .axis.x:not(.web) text[transform]{text-anchor:start}#chart-5a48555e-d81f-426c-a66d-52cab832df99 .axis.x:not(.web) text[transform].backwards{text-anchor:end}#chart-5a48555e-d81f-426c-a66d-52cab832df99 .axis.y text{text-anchor:end}#chart-5a48555e-d81f-426c-a66d-52cab832df99 .axis.y text[transform].backwards{text-anchor:start}#chart-5a48555e-d81f-426c-a66d-52cab832df99 .axis.y2 text{text-anchor:start}#chart-5a48555e-d81f-426c-a66d-52cab832df99 .axis.y2 text[transform].backwards{text-anchor:end}#chart-5a48555e-d81f-426c-a66d-52cab832df99 .axis .guide.line{stroke-dasharray:4,4}#chart-5a48555e-d81f-426c-a66d-52cab832df99 .axis .major.guide.line{stroke-dasharray:6,6}#chart-5a48555e-d81f-426c-a66d-52cab832df99 .horizontal .axis.y .guide.line,#chart-5a48555e-d81f-426c-a66d-52cab832df99 .horizontal .axis.y2 .guide.line,#chart-5a48555e-d81f-426c-a66d-52cab832df99 .vertical .axis.x .guide.line{opacity:0}#chart-5a48555e-d81f-426c-a66d-52cab832df99 .horizontal .axis.always_show .guide.line,#chart-5a48555e-d81f-426c-a66d-52cab832df99 .vertical .axis.always_show .guide.line{opacity:1 !important}#chart-5a48555e-d81f-426c-a66d-52cab832df99 .axis.y .guides:hover .guide.line,#chart-5a48555e-d81f-426c-a66d-52cab832df99 .axis.y2 .guides:hover .guide.line,#chart-5a48555e-d81f-426c-a66d-52cab832df99 .axis.x .guides:hover .guide.line{opacity:1}#chart-5a48555e-d81f-426c-a66d-52cab832df99 .axis .guides:hover text{opacity:1}#chart-5a48555e-d81f-426c-a66d-52cab832df99 .nofill{fill:none}#chart-5a48555e-d81f-426c-a66d-52cab832df99 .subtle-fill{fill-opacity:.2}#chart-5a48555e-d81f-426c-a66d-52cab832df99 .dot{stroke-width:1px;fill-opacity:1}#chart-5a48555e-d81f-426c-a66d-52cab832df99 .dot.active{stroke-width:5px}#chart-5a48555e-d81f-426c-a66d-52cab832df99 .dot.negative{fill:transparent}#chart-5a48555e-d81f-426c-a66d-52cab832df99 text,#chart-5a48555e-d81f-426c-a66d-52cab832df99 tspan{stroke:none !important}#chart-5a48555e-d81f-426c-a66d-52cab832df99 .series text.active{opacity:1}#chart-5a48555e-d81f-426c-a66d-52cab832df99 .tooltip rect{fill-opacity:.95;stroke-width:.5}#chart-5a48555e-d81f-426c-a66d-52cab832df99 .tooltip text{fill-opacity:1}#chart-5a48555e-d81f-426c-a66d-52cab832df99 .showable{visibility:hidden}#chart-5a48555e-d81f-426c-a66d-52cab832df99 .showable.shown{visibility:visible}#chart-5a48555e-d81f-426c-a66d-52cab832df99 .gauge-background{fill:rgba(229,229,229,1);stroke:none}#chart-5a48555e-d81f-426c-a66d-52cab832df99 .bg-lines{stroke:rgba(249,249,249,1);stroke-width:2px}</style><script type=\"text/javascript\">window.pygal = window.pygal || {};window.pygal.config = window.pygal.config || {};window.pygal.config['5a48555e-d81f-426c-a66d-52cab832df99'] = {&quot;allow_interruptions&quot;: false, &quot;box_mode&quot;: &quot;extremes&quot;, &quot;classes&quot;: [&quot;pygal-chart&quot;], &quot;css&quot;: [&quot;file://style.css&quot;, &quot;file://graph.css&quot;], &quot;defs&quot;: [], &quot;disable_xml_declaration&quot;: true, &quot;dots_size&quot;: 2.5, &quot;dynamic_print_values&quot;: false, &quot;explicit_size&quot;: false, &quot;fill&quot;: false, &quot;force_uri_protocol&quot;: &quot;https&quot;, &quot;formatter&quot;: null, &quot;half_pie&quot;: false, &quot;height&quot;: 600, &quot;include_x_axis&quot;: false, &quot;inner_radius&quot;: 0, &quot;interpolate&quot;: null, &quot;interpolation_parameters&quot;: {}, &quot;interpolation_precision&quot;: 250, &quot;inverse_y_axis&quot;: false, &quot;js&quot;: [&quot;//kozea.github.io/pygal.js/2.0.x/pygal-tooltips.min.js&quot;], &quot;legend_at_bottom&quot;: false, &quot;legend_at_bottom_columns&quot;: null, &quot;legend_box_size&quot;: 12, &quot;logarithmic&quot;: false, &quot;margin&quot;: 20, &quot;margin_bottom&quot;: null, &quot;margin_left&quot;: null, &quot;margin_right&quot;: null, &quot;margin_top&quot;: null, &quot;max_scale&quot;: 16, &quot;min_scale&quot;: 4, &quot;missing_value_fill_truncation&quot;: &quot;x&quot;, &quot;no_data_text&quot;: &quot;No data&quot;, &quot;no_prefix&quot;: false, &quot;order_min&quot;: null, &quot;pretty_print&quot;: false, &quot;print_labels&quot;: false, &quot;print_values&quot;: false, &quot;print_values_position&quot;: &quot;center&quot;, &quot;print_zeroes&quot;: true, &quot;range&quot;: null, &quot;rounded_bars&quot;: null, &quot;secondary_range&quot;: null, &quot;show_dots&quot;: true, &quot;show_legend&quot;: true, &quot;show_minor_x_labels&quot;: true, &quot;show_minor_y_labels&quot;: true, &quot;show_only_major_dots&quot;: false, &quot;show_x_guides&quot;: false, &quot;show_x_labels&quot;: true, &quot;show_y_guides&quot;: true, &quot;show_y_labels&quot;: true, &quot;spacing&quot;: 10, &quot;stack_from_top&quot;: false, &quot;strict&quot;: false, &quot;stroke&quot;: true, &quot;stroke_style&quot;: null, &quot;style&quot;: {&quot;background&quot;: &quot;rgba(249, 249, 249, 1)&quot;, &quot;ci_colors&quot;: [], &quot;colors&quot;: [&quot;#F44336&quot;, &quot;#3F51B5&quot;, &quot;#009688&quot;, &quot;#FFC107&quot;, &quot;#FF5722&quot;, &quot;#9C27B0&quot;, &quot;#03A9F4&quot;, &quot;#8BC34A&quot;, &quot;#FF9800&quot;, &quot;#E91E63&quot;, &quot;#2196F3&quot;, &quot;#4CAF50&quot;, &quot;#FFEB3B&quot;, &quot;#673AB7&quot;, &quot;#00BCD4&quot;, &quot;#CDDC39&quot;, &quot;#9E9E9E&quot;, &quot;#607D8B&quot;], &quot;font_family&quot;: &quot;Consolas, \\&quot;Liberation Mono\\&quot;, Menlo, Courier, monospace&quot;, &quot;foreground&quot;: &quot;rgba(0, 0, 0, .87)&quot;, &quot;foreground_strong&quot;: &quot;rgba(0, 0, 0, 1)&quot;, &quot;foreground_subtle&quot;: &quot;rgba(0, 0, 0, .54)&quot;, &quot;guide_stroke_dasharray&quot;: &quot;4,4&quot;, &quot;label_font_family&quot;: &quot;Consolas, \\&quot;Liberation Mono\\&quot;, Menlo, Courier, monospace&quot;, &quot;label_font_size&quot;: 10, &quot;legend_font_family&quot;: &quot;Consolas, \\&quot;Liberation Mono\\&quot;, Menlo, Courier, monospace&quot;, &quot;legend_font_size&quot;: 14, &quot;major_guide_stroke_dasharray&quot;: &quot;6,6&quot;, &quot;major_label_font_family&quot;: &quot;Consolas, \\&quot;Liberation Mono\\&quot;, Menlo, Courier, monospace&quot;, &quot;major_label_font_size&quot;: 10, &quot;no_data_font_family&quot;: &quot;Consolas, \\&quot;Liberation Mono\\&quot;, Menlo, Courier, monospace&quot;, &quot;no_data_font_size&quot;: 64, &quot;opacity&quot;: &quot;.7&quot;, &quot;opacity_hover&quot;: &quot;.8&quot;, &quot;plot_background&quot;: &quot;rgba(255, 255, 255, 1)&quot;, &quot;stroke_opacity&quot;: &quot;.8&quot;, &quot;stroke_opacity_hover&quot;: &quot;.9&quot;, &quot;title_font_family&quot;: &quot;Consolas, \\&quot;Liberation Mono\\&quot;, Menlo, Courier, monospace&quot;, &quot;title_font_size&quot;: 16, &quot;tooltip_font_family&quot;: &quot;Consolas, \\&quot;Liberation Mono\\&quot;, Menlo, Courier, monospace&quot;, &quot;tooltip_font_size&quot;: 14, &quot;transition&quot;: &quot;150ms&quot;, &quot;value_background&quot;: &quot;rgba(229, 229, 229, 1)&quot;, &quot;value_colors&quot;: [], &quot;value_font_family&quot;: &quot;Consolas, \\&quot;Liberation Mono\\&quot;, Menlo, Courier, monospace&quot;, &quot;value_font_size&quot;: 16, &quot;value_label_font_family&quot;: &quot;Consolas, \\&quot;Liberation Mono\\&quot;, Menlo, Courier, monospace&quot;, &quot;value_label_font_size&quot;: 10}, &quot;title&quot;: &quot;Sentiment Analysis&quot;, &quot;tooltip_border_radius&quot;: 0, &quot;tooltip_fancy_mode&quot;: true, &quot;truncate_label&quot;: null, &quot;truncate_legend&quot;: null, &quot;width&quot;: 800, &quot;x_label_rotation&quot;: 0, &quot;x_labels&quot;: [&quot;Price&quot;, &quot;Comfort&quot;, &quot;Location&quot;], &quot;x_labels_major&quot;: null, &quot;x_labels_major_count&quot;: null, &quot;x_labels_major_every&quot;: null, &quot;x_title&quot;: null, &quot;xrange&quot;: null, &quot;y_label_rotation&quot;: 0, &quot;y_labels&quot;: null, &quot;y_labels_major&quot;: null, &quot;y_labels_major_count&quot;: null, &quot;y_labels_major_every&quot;: null, &quot;y_title&quot;: null, &quot;zero&quot;: 0, &quot;legends&quot;: [&quot;Negative&quot;, &quot;Positive&quot;]}</script><script type=\"text/javascript\" xlink:href=\"https://kozea.github.io/pygal.js/2.0.x/pygal-tooltips.min.js\"/></defs><title>Sentiment Analysis</title><g class=\"graph stackedbar-graph vertical\"><rect class=\"background\" height=\"600\" width=\"800\" x=\"0\" y=\"0\"/><g class=\"plot\" transform=\"translate(137, 46)\"><rect class=\"background\" height=\"514\" width=\"642.8\" x=\"0\" y=\"0\"/><g class=\"axis y always_show\"><g class=\"guides\"><path class=\"axis major line\" d=\"M0.000000 504.115385 h642.800000\"/><text class=\"major\" x=\"-5\" y=\"507.61538461538464\">0</text><title>0</title></g><g class=\"guides\"><path class=\"guide line\" d=\"M0.000000 454.692308 h642.800000\"/><text class=\"\" x=\"-5\" y=\"458.1923076923077\">10</text><title>10</title></g><g class=\"guides\"><path class=\"guide line\" d=\"M0.000000 405.269231 h642.800000\"/><text class=\"\" x=\"-5\" y=\"408.7692307692308\">20</text><title>20</title></g><g class=\"guides\"><path class=\"guide line\" d=\"M0.000000 355.846154 h642.800000\"/><text class=\"\" x=\"-5\" y=\"359.3461538461538\">30</text><title>30</title></g><g class=\"guides\"><path class=\"guide line\" d=\"M0.000000 306.423077 h642.800000\"/><text class=\"\" x=\"-5\" y=\"309.9230769230769\">40</text><title>40</title></g><g class=\"guides\"><path class=\"major guide line\" d=\"M0.000000 257.000000 h642.800000\"/><text class=\"major\" x=\"-5\" y=\"260.5\">50</text><title>50</title></g><g class=\"guides\"><path class=\"guide line\" d=\"M0.000000 207.576923 h642.800000\"/><text class=\"\" x=\"-5\" y=\"211.0769230769231\">60</text><title>60</title></g><g class=\"guides\"><path class=\"guide line\" d=\"M0.000000 158.153846 h642.800000\"/><text class=\"\" x=\"-5\" y=\"161.65384615384613\">70</text><title>70</title></g><g class=\"guides\"><path class=\"guide line\" d=\"M0.000000 108.730769 h642.800000\"/><text class=\"\" x=\"-5\" y=\"112.23076923076923\">80</text><title>80</title></g><g class=\"guides\"><path class=\"guide line\" d=\"M0.000000 59.307692 h642.800000\"/><text class=\"\" x=\"-5\" y=\"62.80769230769232\">90</text><title>90</title></g><g class=\"guides\"><path class=\"major guide line\" d=\"M0.000000 9.884615 h642.800000\"/><text class=\"major\" x=\"-5\" y=\"13.384615384615358\">100</text><title>100</title></g></g><g class=\"axis x\"><path class=\"line\" d=\"M0.000000 0.000000 v514.000000\"/><g class=\"guides\"><path class=\"guide line\" d=\"M115.374359 0.000000 v514.000000\"/><text class=\"\" x=\"115.37435897435894\" y=\"529.0\">Price</text></g><g class=\"guides\"><path class=\"guide line\" d=\"M321.400000 0.000000 v514.000000\"/><text class=\"\" x=\"321.4\" y=\"529.0\">Comfort</text></g><g class=\"guides\"><path class=\"guide line\" d=\"M527.425641 0.000000 v514.000000\"/><text class=\"\" x=\"527.425641025641\" y=\"529.0\">Location</text></g></g><g class=\"series serie-0 color-0\"><g class=\"bars\"><g class=\"bar\"><rect class=\"rect reactive tooltip-trigger\" height=\"146.60950057405284\" rx=\"0\" ry=\"0\" width=\"181.3025641025641\" x=\"24.72307692307692\" y=\"357.5058840413318\"/><desc class=\"value\">29.6641791</desc><desc class=\"x centered\">115.37435897435897</desc><desc class=\"y centered\">430.8106343283582</desc><desc class=\"x_label\">Price</desc></g><g class=\"bar\"><rect class=\"rect reactive tooltip-trigger\" height=\"244.21890570872682\" rx=\"0\" ry=\"0\" width=\"181.3025641025641\" x=\"230.7487179487179\" y=\"259.8964789066578\"/><desc class=\"value\">49.41394201</desc><desc class=\"x centered\">321.4</desc><desc class=\"y centered\">382.0059317610212</desc><desc class=\"x_label\">Comfort</desc></g><g class=\"bar\"><rect class=\"rect reactive tooltip-trigger\" height=\"244.51339303665497\" rx=\"0\" ry=\"0\" width=\"181.3025641025641\" x=\"436.77435897435896\" y=\"259.60199157872967\"/><desc class=\"value\">49.473527</desc><desc class=\"x centered\">527.425641025641</desc><desc class=\"y centered\">381.85868809705715</desc><desc class=\"x_label\">Location</desc></g></g></g><g class=\"series serie-1 color-1\"><g class=\"bars\"><g class=\"bar\"><rect class=\"rect reactive tooltip-trigger\" height=\"347.62126865671644\" rx=\"0\" ry=\"0\" width=\"181.3025641025641\" x=\"24.72307692307692\" y=\"9.884615384615358\"/><desc class=\"value\">70.3358209</desc><desc class=\"x centered\">115.37435897435897</desc><desc class=\"y centered\">183.69524971297358</desc><desc class=\"x_label\">Price</desc></g><g class=\"bar\"><rect class=\"rect reactive tooltip-trigger\" height=\"250.01186352204246\" rx=\"0\" ry=\"0\" width=\"181.3025641025641\" x=\"230.7487179487179\" y=\"9.884615384615358\"/><desc class=\"value\">50.58605799</desc><desc class=\"x centered\">321.4</desc><desc class=\"y centered\">134.8905471456366</desc><desc class=\"x_label\">Comfort</desc></g><g class=\"bar\"><rect class=\"rect reactive tooltip-trigger\" height=\"249.7173761941143\" rx=\"0\" ry=\"0\" width=\"181.3025641025641\" x=\"436.77435897435896\" y=\"9.884615384615358\"/><desc class=\"value\">50.526473</desc><desc class=\"x centered\">527.425641025641</desc><desc class=\"y centered\">134.7433034816725</desc><desc class=\"x_label\">Location</desc></g></g></g></g><g class=\"titles\"><text class=\"title plot_title\" x=\"400.0\" y=\"26\">Sentiment Analysis</text></g><g class=\"plot overlay\" transform=\"translate(137, 46)\"><g class=\"series serie-0 color-0\"/><g class=\"series serie-1 color-1\"/></g><g class=\"plot text-overlay\" transform=\"translate(137, 46)\"><g class=\"series serie-0 color-0\"/><g class=\"series serie-1 color-1\"/></g><g class=\"plot tooltip-overlay\" transform=\"translate(137, 46)\"><g class=\"tooltip\" style=\"opacity: 0\" transform=\"translate(0 0)\"><rect class=\"tooltip-box\" height=\"0\" rx=\"0\" ry=\"0\" width=\"0\"/><g class=\"text\"/></g></g><g class=\"legends\" transform=\"translate(10, 56)\"><g class=\"legend reactive activate-serie\" id=\"activate-serie-0\"><rect class=\"color-0 reactive\" height=\"12\" width=\"12\" x=\"0.0\" y=\"1.0\"/><text x=\"17.0\" y=\"11.2\">Negative</text></g><g class=\"legend reactive activate-serie\" id=\"activate-serie-1\"><rect class=\"color-1 reactive\" height=\"12\" width=\"12\" x=\"0.0\" y=\"22.0\"/><text x=\"17.0\" y=\"32.2\">Positive</text></g></g><g class=\"legends\" transform=\"translate(790, 56)\"/></g></svg>"
      ],
      "text/plain": [
       "<IPython.core.display.SVG object>"
      ]
     },
     "metadata": {},
     "output_type": "display_data"
    }
   ],
   "source": [
    "line_chart = pygal.StackedBar()\n",
    "line_chart.title = 'Category Wise Sentiment'\n",
    "line_chart.x_labels = [\"Price\",\"Comfort\",\"Location\"]\n",
    "line_chart.add('Negative',  [senti_dict[\"Price\"][1],senti_dict[\"Comfort\"][1],senti_dict[\"Location\"][1]])\n",
    "line_chart.add('Positive', [senti_dict[\"Price\"][0],senti_dict[\"Comfort\"][0],senti_dict[\"Location\"][0]])\n",
    "display(SVG(line_chart.render(disable_xml_declaration=True)))"
   ]
  }
 ],
 "metadata": {
  "kernelspec": {
   "display_name": "Python 3",
   "language": "python",
   "name": "python3"
  },
  "language_info": {
   "codemirror_mode": {
    "name": "ipython",
    "version": 3
   },
   "file_extension": ".py",
   "mimetype": "text/x-python",
   "name": "python",
   "nbconvert_exporter": "python",
   "pygments_lexer": "ipython3",
   "version": "3.7.3"
  }
 },
 "nbformat": 4,
 "nbformat_minor": 2
}
